{
 "cells": [
  {
   "cell_type": "code",
   "execution_count": 8,
   "metadata": {},
   "outputs": [],
   "source": [
    "from diffrax import diffeqsolve, Dopri5, ODETerm, SaveAt, PIDController, Tsit5\n",
    "import jax.numpy as jnp\n",
    "import plotly.express as px"
   ]
  },
  {
   "cell_type": "code",
   "execution_count": 6,
   "metadata": {},
   "outputs": [],
   "source": [
    "vector_field = lambda t, y, args: -y\n",
    "term = ODETerm(vector_field)\n",
    "solver = Dopri5()\n",
    "saveat = SaveAt(ts=[0., 1., 2., 3.])\n",
    "stepsize_controller = PIDController(rtol=1e-5, atol=1e-5)\n",
    "\n",
    "sol = diffeqsolve(term, solver, t0=0, t1=3, dt0=0.1, y0=1, saveat=saveat,\n",
    "                  stepsize_controller=stepsize_controller)"
   ]
  },
  {
   "cell_type": "code",
   "execution_count": null,
   "metadata": {},
   "outputs": [],
   "source": [
    "def vector_field(t, y, args):\n",
    "    A, B, C = y\n",
    "    kab, kba, kac, kca, kbc, kcb = args\n",
    "    d_A = -kab*A + kba*B + -kac*A + kca*C\n",
    "    d_B = -kba*B + kab*A + -kbc*B + kcb*C\n",
    "    d_C = -kca*C + kac*A + -kcb*C + kbc*B\n",
    "    d_y = d_A, d_B, d_C\n",
    "    return d_y\n",
    "\n",
    "\n",
    "term = ODETerm(vector_field)\n",
    "solver = Tsit5()\n",
    "t0 = 0\n",
    "t1 = 140\n",
    "dt0 = 0.1\n",
    "y0 = (10.0, 10.0, 10.0)\n",
    "args = (0.1, 0.02, 0.4, 0.02, 0.001, 10)\n",
    "saveat = SaveAt(ts=jnp.linspace(t0, t1, 1000))\n",
    "sol = diffeqsolve(term, solver, t0, t1, dt0, y0, args=args, saveat=saveat)"
   ]
  }
 ],
 "metadata": {
  "kernelspec": {
   "display_name": "env",
   "language": "python",
   "name": "python3"
  },
  "language_info": {
   "codemirror_mode": {
    "name": "ipython",
    "version": 3
   },
   "file_extension": ".py",
   "mimetype": "text/x-python",
   "name": "python",
   "nbconvert_exporter": "python",
   "pygments_lexer": "ipython3",
   "version": "3.12.7"
  }
 },
 "nbformat": 4,
 "nbformat_minor": 2
}
